{
 "cells": [
  {
   "cell_type": "code",
   "execution_count": 1,
   "metadata": {},
   "outputs": [],
   "source": [
    "# importing utility modules\n",
    "import pandas as pd\n",
    "from sklearn.model_selection import train_test_split\n",
    "from sklearn.metrics import mean_squared_error"
   ]
  },
  {
   "cell_type": "code",
   "execution_count": 2,
   "metadata": {},
   "outputs": [],
   "source": [
    "# importing machine learning models for prediction\n",
    "from sklearn.ensemble import AdaBoostClassifier"
   ]
  },
  {
   "cell_type": "code",
   "execution_count": 3,
   "metadata": {},
   "outputs": [
    {
     "name": "stdout",
     "output_type": "stream",
     "text": [
      "       LoanID  Age  Income  LoanAmount  CreditScore  MonthsEmployed  \\\n",
      "0  I38PQUQS96   56   85994       50587          520              80   \n",
      "1  HPSK72WA7R   69   50432      124440          458              15   \n",
      "2  C1OZ6DPJ8Y   46   84208      129188          451              26   \n",
      "3  V2KKSFM3UN   32   31713       44799          743               0   \n",
      "4  EY08JDHTZP   60   20437        9139          633               8   \n",
      "\n",
      "   NumCreditLines  InterestRate  LoanTerm  DTIRatio    Education  \\\n",
      "0               4         15.23        36      0.44   Bachelor's   \n",
      "1               1          4.81        60      0.68     Master's   \n",
      "2               3         21.17        24      0.31     Master's   \n",
      "3               3          7.07        24      0.23  High School   \n",
      "4               4          6.51        48      0.73   Bachelor's   \n",
      "\n",
      "  EmploymentType MaritalStatus HasMortgage HasDependents LoanPurpose  \\\n",
      "0      Full-time      Divorced         Yes           Yes       Other   \n",
      "1      Full-time       Married          No            No       Other   \n",
      "2     Unemployed      Divorced         Yes           Yes        Auto   \n",
      "3      Full-time       Married          No            No    Business   \n",
      "4     Unemployed      Divorced          No           Yes        Auto   \n",
      "\n",
      "  HasCoSigner  Default  \n",
      "0         Yes        0  \n",
      "1         Yes        0  \n",
      "2          No        1  \n",
      "3          No        0  \n",
      "4          No        0  \n"
     ]
    }
   ],
   "source": [
    "# Load the dataset\n",
    "data = pd.read_csv('Loan_default.csv' , sep=\",\")\n",
    "\n",
    "# Display the first few rows of the dataset to understand its structure\n",
    "print(data.head())"
   ]
  },
  {
   "cell_type": "code",
   "execution_count": 4,
   "metadata": {},
   "outputs": [
    {
     "name": "stdout",
     "output_type": "stream",
     "text": [
      "\n",
      "Missing values in each column:\n",
      "LoanID            0\n",
      "Age               0\n",
      "Income            0\n",
      "LoanAmount        0\n",
      "CreditScore       0\n",
      "MonthsEmployed    0\n",
      "NumCreditLines    0\n",
      "InterestRate      0\n",
      "LoanTerm          0\n",
      "DTIRatio          0\n",
      "Education         0\n",
      "EmploymentType    0\n",
      "MaritalStatus     0\n",
      "HasMortgage       0\n",
      "HasDependents     0\n",
      "LoanPurpose       0\n",
      "HasCoSigner       0\n",
      "Default           0\n",
      "dtype: int64\n",
      "\n",
      "Transformed dataset:\n",
      "       LoanID  Age  Income  LoanAmount  CreditScore  MonthsEmployed  \\\n",
      "0  I38PQUQS96   56   85994       50587          520              80   \n",
      "1  HPSK72WA7R   69   50432      124440          458              15   \n",
      "2  C1OZ6DPJ8Y   46   84208      129188          451              26   \n",
      "3  V2KKSFM3UN   32   31713       44799          743               0   \n",
      "4  EY08JDHTZP   60   20437        9139          633               8   \n",
      "\n",
      "   NumCreditLines  InterestRate  LoanTerm  DTIRatio  Education  \\\n",
      "0               4         15.23        36      0.44          0   \n",
      "1               1          4.81        60      0.68          1   \n",
      "2               3         21.17        24      0.31          1   \n",
      "3               3          7.07        24      0.23          2   \n",
      "4               4          6.51        48      0.73          0   \n",
      "\n",
      "   EmploymentType  MaritalStatus  HasMortgage  HasDependents  LoanPurpose  \\\n",
      "0               0              0            0              0            2   \n",
      "1               0              1            1              1            2   \n",
      "2               1              0            0              0            0   \n",
      "3               0              1            1              1            1   \n",
      "4               1              0            1              0            0   \n",
      "\n",
      "   HasCoSigner  Default  \n",
      "0            0        0  \n",
      "1            0        0  \n",
      "2            1        1  \n",
      "3            1        0  \n",
      "4            1        0  \n"
     ]
    }
   ],
   "source": [
    "# List of categorical columns with their respective categories\n",
    "categorical_mappings = {\n",
    "    'Education': {\"Bachelor's\": 0, \"Master's\": 1, 'High School': 2, 'PhD': 3},\n",
    "    'EmploymentType': {'Full-time': 0, 'Unemployed': 1, 'Self-employed': 2, 'Part-time': 3},\n",
    "    'MaritalStatus': {'Divorced': 0, 'Married': 1, 'Single': 2},\n",
    "    'HasMortgage': {'Yes': 0, 'No': 1},\n",
    "    'HasDependents': {'Yes': 0, 'No': 1},\n",
    "    'LoanPurpose': {'Auto': 0, 'Business': 1, 'Other': 2, 'Home': 3, 'Education': 4},\n",
    "    'HasCoSigner': {'Yes': 0, 'No': 1}\n",
    "}\n",
    "\n",
    "# Apply the mapping to the data\n",
    "for column, mapping in categorical_mappings.items():\n",
    "    data[column] = data[column].replace(mapping)\n",
    "\n",
    "# Check for missing values\n",
    "print(\"\\nMissing values in each column:\")\n",
    "print(data.isnull().sum())\n",
    "\n",
    "# Show the transformed dataset\n",
    "print(\"\\nTransformed dataset:\")\n",
    "print(data.head())"
   ]
  },
  {
   "cell_type": "code",
   "execution_count": 5,
   "metadata": {},
   "outputs": [
    {
     "data": {
      "text/html": [
       "<div>\n",
       "<style scoped>\n",
       "    .dataframe tbody tr th:only-of-type {\n",
       "        vertical-align: middle;\n",
       "    }\n",
       "\n",
       "    .dataframe tbody tr th {\n",
       "        vertical-align: top;\n",
       "    }\n",
       "\n",
       "    .dataframe thead th {\n",
       "        text-align: right;\n",
       "    }\n",
       "</style>\n",
       "<table border=\"1\" class=\"dataframe\">\n",
       "  <thead>\n",
       "    <tr style=\"text-align: right;\">\n",
       "      <th></th>\n",
       "      <th>Age</th>\n",
       "      <th>Income</th>\n",
       "      <th>LoanAmount</th>\n",
       "      <th>CreditScore</th>\n",
       "      <th>MonthsEmployed</th>\n",
       "      <th>NumCreditLines</th>\n",
       "      <th>InterestRate</th>\n",
       "      <th>LoanTerm</th>\n",
       "      <th>DTIRatio</th>\n",
       "      <th>Education</th>\n",
       "      <th>EmploymentType</th>\n",
       "      <th>MaritalStatus</th>\n",
       "      <th>HasMortgage</th>\n",
       "      <th>HasDependents</th>\n",
       "      <th>LoanPurpose</th>\n",
       "      <th>HasCoSigner</th>\n",
       "    </tr>\n",
       "  </thead>\n",
       "  <tbody>\n",
       "    <tr>\n",
       "      <th>0</th>\n",
       "      <td>56</td>\n",
       "      <td>85994</td>\n",
       "      <td>50587</td>\n",
       "      <td>520</td>\n",
       "      <td>80</td>\n",
       "      <td>4</td>\n",
       "      <td>15.23</td>\n",
       "      <td>36</td>\n",
       "      <td>0.44</td>\n",
       "      <td>0</td>\n",
       "      <td>0</td>\n",
       "      <td>0</td>\n",
       "      <td>0</td>\n",
       "      <td>0</td>\n",
       "      <td>2</td>\n",
       "      <td>0</td>\n",
       "    </tr>\n",
       "    <tr>\n",
       "      <th>1</th>\n",
       "      <td>69</td>\n",
       "      <td>50432</td>\n",
       "      <td>124440</td>\n",
       "      <td>458</td>\n",
       "      <td>15</td>\n",
       "      <td>1</td>\n",
       "      <td>4.81</td>\n",
       "      <td>60</td>\n",
       "      <td>0.68</td>\n",
       "      <td>1</td>\n",
       "      <td>0</td>\n",
       "      <td>1</td>\n",
       "      <td>1</td>\n",
       "      <td>1</td>\n",
       "      <td>2</td>\n",
       "      <td>0</td>\n",
       "    </tr>\n",
       "    <tr>\n",
       "      <th>2</th>\n",
       "      <td>46</td>\n",
       "      <td>84208</td>\n",
       "      <td>129188</td>\n",
       "      <td>451</td>\n",
       "      <td>26</td>\n",
       "      <td>3</td>\n",
       "      <td>21.17</td>\n",
       "      <td>24</td>\n",
       "      <td>0.31</td>\n",
       "      <td>1</td>\n",
       "      <td>1</td>\n",
       "      <td>0</td>\n",
       "      <td>0</td>\n",
       "      <td>0</td>\n",
       "      <td>0</td>\n",
       "      <td>1</td>\n",
       "    </tr>\n",
       "    <tr>\n",
       "      <th>3</th>\n",
       "      <td>32</td>\n",
       "      <td>31713</td>\n",
       "      <td>44799</td>\n",
       "      <td>743</td>\n",
       "      <td>0</td>\n",
       "      <td>3</td>\n",
       "      <td>7.07</td>\n",
       "      <td>24</td>\n",
       "      <td>0.23</td>\n",
       "      <td>2</td>\n",
       "      <td>0</td>\n",
       "      <td>1</td>\n",
       "      <td>1</td>\n",
       "      <td>1</td>\n",
       "      <td>1</td>\n",
       "      <td>1</td>\n",
       "    </tr>\n",
       "    <tr>\n",
       "      <th>4</th>\n",
       "      <td>60</td>\n",
       "      <td>20437</td>\n",
       "      <td>9139</td>\n",
       "      <td>633</td>\n",
       "      <td>8</td>\n",
       "      <td>4</td>\n",
       "      <td>6.51</td>\n",
       "      <td>48</td>\n",
       "      <td>0.73</td>\n",
       "      <td>0</td>\n",
       "      <td>1</td>\n",
       "      <td>0</td>\n",
       "      <td>1</td>\n",
       "      <td>0</td>\n",
       "      <td>0</td>\n",
       "      <td>1</td>\n",
       "    </tr>\n",
       "  </tbody>\n",
       "</table>\n",
       "</div>"
      ],
      "text/plain": [
       "   Age  Income  LoanAmount  CreditScore  MonthsEmployed  NumCreditLines  \\\n",
       "0   56   85994       50587          520              80               4   \n",
       "1   69   50432      124440          458              15               1   \n",
       "2   46   84208      129188          451              26               3   \n",
       "3   32   31713       44799          743               0               3   \n",
       "4   60   20437        9139          633               8               4   \n",
       "\n",
       "   InterestRate  LoanTerm  DTIRatio  Education  EmploymentType  MaritalStatus  \\\n",
       "0         15.23        36      0.44          0               0              0   \n",
       "1          4.81        60      0.68          1               0              1   \n",
       "2         21.17        24      0.31          1               1              0   \n",
       "3          7.07        24      0.23          2               0              1   \n",
       "4          6.51        48      0.73          0               1              0   \n",
       "\n",
       "   HasMortgage  HasDependents  LoanPurpose  HasCoSigner  \n",
       "0            0              0            2            0  \n",
       "1            1              1            2            0  \n",
       "2            0              0            0            1  \n",
       "3            1              1            1            1  \n",
       "4            1              0            0            1  "
      ]
     },
     "execution_count": 5,
     "metadata": {},
     "output_type": "execute_result"
    }
   ],
   "source": [
    "# Assuming 'data' is your DataFrame and you want to drop 'LoanID' and use 'Default' as the target variable\n",
    "X = data.drop(['LoanID', 'Default'], axis=1)\n",
    "y = data['Default']\n",
    "\n",
    "X.head()"
   ]
  },
  {
   "cell_type": "code",
   "execution_count": 6,
   "metadata": {},
   "outputs": [],
   "source": [
    "from imblearn.over_sampling import SMOTE\n",
    "oversample = SMOTE(random_state=42)\n",
    "X_train_smote, y_train_smote = oversample.fit_resample(X, y) "
   ]
  },
  {
   "cell_type": "code",
   "execution_count": 7,
   "metadata": {},
   "outputs": [],
   "source": [
    "# Splitting between train data into training and validation dataset\n",
    "X_train, X_test, y_train, y_test = train_test_split(X_train_smote, y_train_smote, test_size=0.20)"
   ]
  },
  {
   "cell_type": "code",
   "execution_count": 8,
   "metadata": {},
   "outputs": [],
   "source": [
    "from sklearn.tree import DecisionTreeClassifier\n",
    "\n",
    "# Create a DecisionTreeClassifier with depth 2\n",
    "dt = DecisionTreeClassifier(max_depth=2)\n",
    "# initializing the boosting module with\n",
    "model = AdaBoostClassifier(\n",
    "    base_estimator=dt,\n",
    "    n_estimators=600,\n",
    "    learning_rate=0.01,\n",
    "    random_state=42\n",
    ")"
   ]
  },
  {
   "cell_type": "code",
   "execution_count": 9,
   "metadata": {},
   "outputs": [
    {
     "name": "stderr",
     "output_type": "stream",
     "text": [
      "C:\\Users\\opscu\\anaconda3\\lib\\site-packages\\sklearn\\ensemble\\_base.py:166: FutureWarning: `base_estimator` was renamed to `estimator` in version 1.2 and will be removed in 1.4.\n",
      "  warnings.warn(\n"
     ]
    },
    {
     "data": {
      "text/html": [
       "<style>#sk-container-id-1 {color: black;background-color: white;}#sk-container-id-1 pre{padding: 0;}#sk-container-id-1 div.sk-toggleable {background-color: white;}#sk-container-id-1 label.sk-toggleable__label {cursor: pointer;display: block;width: 100%;margin-bottom: 0;padding: 0.3em;box-sizing: border-box;text-align: center;}#sk-container-id-1 label.sk-toggleable__label-arrow:before {content: \"▸\";float: left;margin-right: 0.25em;color: #696969;}#sk-container-id-1 label.sk-toggleable__label-arrow:hover:before {color: black;}#sk-container-id-1 div.sk-estimator:hover label.sk-toggleable__label-arrow:before {color: black;}#sk-container-id-1 div.sk-toggleable__content {max-height: 0;max-width: 0;overflow: hidden;text-align: left;background-color: #f0f8ff;}#sk-container-id-1 div.sk-toggleable__content pre {margin: 0.2em;color: black;border-radius: 0.25em;background-color: #f0f8ff;}#sk-container-id-1 input.sk-toggleable__control:checked~div.sk-toggleable__content {max-height: 200px;max-width: 100%;overflow: auto;}#sk-container-id-1 input.sk-toggleable__control:checked~label.sk-toggleable__label-arrow:before {content: \"▾\";}#sk-container-id-1 div.sk-estimator input.sk-toggleable__control:checked~label.sk-toggleable__label {background-color: #d4ebff;}#sk-container-id-1 div.sk-label input.sk-toggleable__control:checked~label.sk-toggleable__label {background-color: #d4ebff;}#sk-container-id-1 input.sk-hidden--visually {border: 0;clip: rect(1px 1px 1px 1px);clip: rect(1px, 1px, 1px, 1px);height: 1px;margin: -1px;overflow: hidden;padding: 0;position: absolute;width: 1px;}#sk-container-id-1 div.sk-estimator {font-family: monospace;background-color: #f0f8ff;border: 1px dotted black;border-radius: 0.25em;box-sizing: border-box;margin-bottom: 0.5em;}#sk-container-id-1 div.sk-estimator:hover {background-color: #d4ebff;}#sk-container-id-1 div.sk-parallel-item::after {content: \"\";width: 100%;border-bottom: 1px solid gray;flex-grow: 1;}#sk-container-id-1 div.sk-label:hover label.sk-toggleable__label {background-color: #d4ebff;}#sk-container-id-1 div.sk-serial::before {content: \"\";position: absolute;border-left: 1px solid gray;box-sizing: border-box;top: 0;bottom: 0;left: 50%;z-index: 0;}#sk-container-id-1 div.sk-serial {display: flex;flex-direction: column;align-items: center;background-color: white;padding-right: 0.2em;padding-left: 0.2em;position: relative;}#sk-container-id-1 div.sk-item {position: relative;z-index: 1;}#sk-container-id-1 div.sk-parallel {display: flex;align-items: stretch;justify-content: center;background-color: white;position: relative;}#sk-container-id-1 div.sk-item::before, #sk-container-id-1 div.sk-parallel-item::before {content: \"\";position: absolute;border-left: 1px solid gray;box-sizing: border-box;top: 0;bottom: 0;left: 50%;z-index: -1;}#sk-container-id-1 div.sk-parallel-item {display: flex;flex-direction: column;z-index: 1;position: relative;background-color: white;}#sk-container-id-1 div.sk-parallel-item:first-child::after {align-self: flex-end;width: 50%;}#sk-container-id-1 div.sk-parallel-item:last-child::after {align-self: flex-start;width: 50%;}#sk-container-id-1 div.sk-parallel-item:only-child::after {width: 0;}#sk-container-id-1 div.sk-dashed-wrapped {border: 1px dashed gray;margin: 0 0.4em 0.5em 0.4em;box-sizing: border-box;padding-bottom: 0.4em;background-color: white;}#sk-container-id-1 div.sk-label label {font-family: monospace;font-weight: bold;display: inline-block;line-height: 1.2em;}#sk-container-id-1 div.sk-label-container {text-align: center;}#sk-container-id-1 div.sk-container {/* jupyter's `normalize.less` sets `[hidden] { display: none; }` but bootstrap.min.css set `[hidden] { display: none !important; }` so we also need the `!important` here to be able to override the default hidden behavior on the sphinx rendered scikit-learn.org. See: https://github.com/scikit-learn/scikit-learn/issues/21755 */display: inline-block !important;position: relative;}#sk-container-id-1 div.sk-text-repr-fallback {display: none;}</style><div id=\"sk-container-id-1\" class=\"sk-top-container\"><div class=\"sk-text-repr-fallback\"><pre>AdaBoostClassifier(base_estimator=DecisionTreeClassifier(max_depth=2),\n",
       "                   learning_rate=0.01, n_estimators=600, random_state=42)</pre><b>In a Jupyter environment, please rerun this cell to show the HTML representation or trust the notebook. <br />On GitHub, the HTML representation is unable to render, please try loading this page with nbviewer.org.</b></div><div class=\"sk-container\" hidden><div class=\"sk-item sk-dashed-wrapped\"><div class=\"sk-label-container\"><div class=\"sk-label sk-toggleable\"><input class=\"sk-toggleable__control sk-hidden--visually\" id=\"sk-estimator-id-1\" type=\"checkbox\" ><label for=\"sk-estimator-id-1\" class=\"sk-toggleable__label sk-toggleable__label-arrow\">AdaBoostClassifier</label><div class=\"sk-toggleable__content\"><pre>AdaBoostClassifier(base_estimator=DecisionTreeClassifier(max_depth=2),\n",
       "                   learning_rate=0.01, n_estimators=600, random_state=42)</pre></div></div></div><div class=\"sk-parallel\"><div class=\"sk-parallel-item\"><div class=\"sk-item\"><div class=\"sk-label-container\"><div class=\"sk-label sk-toggleable\"><input class=\"sk-toggleable__control sk-hidden--visually\" id=\"sk-estimator-id-2\" type=\"checkbox\" ><label for=\"sk-estimator-id-2\" class=\"sk-toggleable__label sk-toggleable__label-arrow\">base_estimator: DecisionTreeClassifier</label><div class=\"sk-toggleable__content\"><pre>DecisionTreeClassifier(max_depth=2)</pre></div></div></div><div class=\"sk-serial\"><div class=\"sk-item\"><div class=\"sk-estimator sk-toggleable\"><input class=\"sk-toggleable__control sk-hidden--visually\" id=\"sk-estimator-id-3\" type=\"checkbox\" ><label for=\"sk-estimator-id-3\" class=\"sk-toggleable__label sk-toggleable__label-arrow\">DecisionTreeClassifier</label><div class=\"sk-toggleable__content\"><pre>DecisionTreeClassifier(max_depth=2)</pre></div></div></div></div></div></div></div></div></div></div>"
      ],
      "text/plain": [
       "AdaBoostClassifier(base_estimator=DecisionTreeClassifier(max_depth=2),\n",
       "                   learning_rate=0.01, n_estimators=600, random_state=42)"
      ]
     },
     "execution_count": 9,
     "metadata": {},
     "output_type": "execute_result"
    }
   ],
   "source": [
    "# training the model on the train dataset\n",
    "model.fit(X_train, y_train)"
   ]
  },
  {
   "cell_type": "code",
   "execution_count": 10,
   "metadata": {},
   "outputs": [],
   "source": [
    "# predicting the output on the test dataset\n",
    "pred_final = model.predict(X_test)"
   ]
  },
  {
   "cell_type": "code",
   "execution_count": 11,
   "metadata": {},
   "outputs": [
    {
     "name": "stdout",
     "output_type": "stream",
     "text": [
      "0.14022242406787921\n"
     ]
    }
   ],
   "source": [
    "# printing the mean squared error between real value and predicted value\n",
    "print(mean_squared_error(y_test, pred_final))"
   ]
  },
  {
   "cell_type": "code",
   "execution_count": 12,
   "metadata": {},
   "outputs": [
    {
     "name": "stdout",
     "output_type": "stream",
     "text": [
      "\u001b[1m              precision    recall  f1-score   support\n",
      "\n",
      "           0       0.83      0.90      0.87     45137\n",
      "           1       0.89      0.82      0.85     45141\n",
      "\n",
      "    accuracy                           0.86     90278\n",
      "   macro avg       0.86      0.86      0.86     90278\n",
      "weighted avg       0.86      0.86      0.86     90278\n",
      "\u001b[0m\n"
     ]
    }
   ],
   "source": [
    "from sklearn.metrics import classification_report # evaluation metric\n",
    "from termcolor import colored as cl # text customization\n",
    "# Classificaton report\n",
    "print(cl(classification_report(y_test, pred_final), attrs = ['bold']))"
   ]
  },
  {
   "cell_type": "code",
   "execution_count": 22,
   "metadata": {},
   "outputs": [
    {
     "name": "stderr",
     "output_type": "stream",
     "text": [
      "C:\\Users\\opscu\\anaconda3\\lib\\site-packages\\sklearn\\ensemble\\_base.py:166: FutureWarning: `base_estimator` was renamed to `estimator` in version 1.2 and will be removed in 1.4.\n",
      "  warnings.warn(\n",
      "C:\\Users\\opscu\\anaconda3\\lib\\site-packages\\sklearn\\ensemble\\_base.py:166: FutureWarning: `base_estimator` was renamed to `estimator` in version 1.2 and will be removed in 1.4.\n",
      "  warnings.warn(\n",
      "C:\\Users\\opscu\\anaconda3\\lib\\site-packages\\sklearn\\ensemble\\_base.py:166: FutureWarning: `base_estimator` was renamed to `estimator` in version 1.2 and will be removed in 1.4.\n",
      "  warnings.warn(\n",
      "C:\\Users\\opscu\\anaconda3\\lib\\site-packages\\sklearn\\ensemble\\_base.py:166: FutureWarning: `base_estimator` was renamed to `estimator` in version 1.2 and will be removed in 1.4.\n",
      "  warnings.warn(\n",
      "C:\\Users\\opscu\\anaconda3\\lib\\site-packages\\sklearn\\ensemble\\_base.py:166: FutureWarning: `base_estimator` was renamed to `estimator` in version 1.2 and will be removed in 1.4.\n",
      "  warnings.warn(\n"
     ]
    },
    {
     "name": "stdout",
     "output_type": "stream",
     "text": [
      "accuracy: 0.85 +/- 0.10\n",
      "precision_macro: 0.86 +/- 0.07\n",
      "recall_macro: 0.85 +/- 0.10\n",
      "f1_macro: 0.85 +/- 0.10\n"
     ]
    }
   ],
   "source": [
    "from sklearn.model_selection import cross_val_score\n",
    "from sklearn.model_selection import cross_validate\n",
    "\n",
    "scoring = ['accuracy', 'precision_macro', 'recall_macro', 'f1_macro']\n",
    "\n",
    "results = cross_validate(model, X_train_smote, y_train_smote, cv=5, scoring=scoring)\n",
    "\n",
    "for metric_name in scoring:\n",
    "    metric_result = results['test_' + metric_name]\n",
    "    print(f\"{metric_name}: {metric_result.mean():.2f} +/- {metric_result.std():.2f}\")"
   ]
  },
  {
   "cell_type": "code",
   "execution_count": 13,
   "metadata": {},
   "outputs": [
    {
     "data": {
      "image/png": "[encoded data removed]",
      "text/plain": [
       "<Figure size 640x480 with 2 Axes>"
      ]
     },
     "metadata": {},
     "output_type": "display_data"
    }
   ],
   "source": [
    "from sklearn.tree import DecisionTreeClassifier\n",
    "from sklearn.ensemble import AdaBoostClassifier\n",
    "from sklearn.metrics import classification_report, confusion_matrix, ConfusionMatrixDisplay\n",
    "import matplotlib.pyplot as plt\n",
    "from termcolor import colored as cl  # Text customization\n",
    "# Calculate confusion matrix\n",
    "cm = confusion_matrix(y_test, pred_final)\n",
    "\n",
    "# Display the confusion matrix with a custom color map\n",
    "disp = ConfusionMatrixDisplay(confusion_matrix=cm, display_labels=model.classes_)\n",
    "disp.plot(cmap='magma')  # Using 'viridis' color map for better visual appeal\n",
    "plt.title('Confusion Matrix')\n",
    "plt.ylabel('True Label')\n",
    "plt.xlabel('Predicted Label')\n",
    "plt.show()"
   ]
  },
  {
   "cell_type": "code",
   "execution_count": 17,
   "metadata": {},
   "outputs": [
    {
     "name": "stderr",
     "output_type": "stream",
     "text": [
      "[I 2024-04-19 22:06:26,249] A new study created in memory with name: no-name-1e320e43-71b8-4c9c-a50a-e48af6a154fb\n",
      "[I 2024-04-19 22:07:57,625] Trial 0 finished with value: 0.8390194731828352 and parameters: {'n_estimators': 238, 'learning_rate': 0.14486833887239342}. Best is trial 0 with value: 0.8390194731828352.\n",
      "[I 2024-04-19 22:08:16,884] Trial 1 finished with value: 0.6512328585037329 and parameters: {'n_estimators': 50, 'learning_rate': 0.008072307884499755}. Best is trial 0 with value: 0.8390194731828352.\n",
      "[I 2024-04-19 22:09:01,351] Trial 2 finished with value: 0.6261990739715102 and parameters: {'n_estimators': 116, 'learning_rate': 0.0018924123965722254}. Best is trial 0 with value: 0.8390194731828352.\n",
      "[I 2024-04-19 22:09:53,089] Trial 3 finished with value: 0.7211169941735528 and parameters: {'n_estimators': 134, 'learning_rate': 0.010881335003635882}. Best is trial 0 with value: 0.8390194731828352.\n",
      "[I 2024-04-19 22:11:21,430] Trial 4 finished with value: 0.7934712776091628 and parameters: {'n_estimators': 228, 'learning_rate': 0.04134759007834719}. Best is trial 0 with value: 0.8390194731828352.\n",
      "[I 2024-04-19 22:12:54,976] Trial 5 finished with value: 0.8292939586610248 and parameters: {'n_estimators': 239, 'learning_rate': 0.11367330868956228}. Best is trial 0 with value: 0.8390194731828352.\n",
      "[I 2024-04-19 22:13:53,939] Trial 6 finished with value: 0.8538292828817652 and parameters: {'n_estimators': 142, 'learning_rate': 0.43087600478391286}. Best is trial 6 with value: 0.8538292828817652.\n",
      "[I 2024-04-19 22:14:19,650] Trial 7 finished with value: 0.7825383814439841 and parameters: {'n_estimators': 62, 'learning_rate': 0.10266030035164243}. Best is trial 6 with value: 0.8538292828817652.\n",
      "[I 2024-04-19 22:15:56,682] Trial 8 finished with value: 0.7966946542900818 and parameters: {'n_estimators': 238, 'learning_rate': 0.04743178681046319}. Best is trial 6 with value: 0.8538292828817652.\n",
      "[I 2024-04-19 22:16:42,492] Trial 9 finished with value: 0.6529497773543942 and parameters: {'n_estimators': 113, 'learning_rate': 0.003929203002623947}. Best is trial 6 with value: 0.8538292828817652.\n",
      "[I 2024-04-19 22:19:49,679] Trial 10 finished with value: 0.8650501783380226 and parameters: {'n_estimators': 462, 'learning_rate': 0.8622991055819024}. Best is trial 10 with value: 0.8650501783380226.\n",
      "[I 2024-04-19 22:23:04,841] Trial 11 finished with value: 0.865504331066262 and parameters: {'n_estimators': 486, 'learning_rate': 0.9182660868186445}. Best is trial 11 with value: 0.865504331066262.\n",
      "[I 2024-04-19 22:26:17,147] Trial 12 finished with value: 0.8657480227740978 and parameters: {'n_estimators': 491, 'learning_rate': 0.8975978610578527}. Best is trial 12 with value: 0.8657480227740978.\n",
      "[I 2024-04-19 22:29:18,622] Trial 13 finished with value: 0.8654932541704513 and parameters: {'n_estimators': 461, 'learning_rate': 0.9553689117163372}. Best is trial 12 with value: 0.8657480227740978.\n",
      "[I 2024-04-19 22:31:48,533] Trial 14 finished with value: 0.8631338753627683 and parameters: {'n_estimators': 383, 'learning_rate': 0.3124842775123518}. Best is trial 12 with value: 0.8657480227740978.\n",
      "[I 2024-04-19 22:34:20,340] Trial 15 finished with value: 0.8628901836549325 and parameters: {'n_estimators': 382, 'learning_rate': 0.359772068242482}. Best is trial 12 with value: 0.8657480227740978.\n",
      "[I 2024-04-19 22:36:50,319] Trial 16 finished with value: 0.8602538824519816 and parameters: {'n_estimators': 376, 'learning_rate': 0.21752997681340375}. Best is trial 12 with value: 0.8657480227740978.\n",
      "[I 2024-04-19 22:38:57,538] Trial 17 finished with value: 0.7801346950530583 and parameters: {'n_estimators': 324, 'learning_rate': 0.0184205274385919}. Best is trial 12 with value: 0.8657480227740978.\n",
      "[I 2024-04-19 22:42:08,523] Trial 18 finished with value: 0.8643523339019473 and parameters: {'n_estimators': 484, 'learning_rate': 0.5596235759892735}. Best is trial 12 with value: 0.8657480227740978.\n",
      "[I 2024-04-19 22:44:55,741] Trial 19 finished with value: 0.8306010323666896 and parameters: {'n_estimators': 431, 'learning_rate': 0.06580241441769469}. Best is trial 12 with value: 0.8657480227740978.\n",
      "[I 2024-04-19 22:46:54,637] Trial 20 finished with value: 0.8546489731717584 and parameters: {'n_estimators': 306, 'learning_rate': 0.193047847721768}. Best is trial 12 with value: 0.8657480227740978.\n",
      "[I 2024-04-19 22:50:07,226] Trial 21 finished with value: 0.8656040231285584 and parameters: {'n_estimators': 496, 'learning_rate': 0.9499004790537099}. Best is trial 12 with value: 0.8657480227740978.\n",
      "[I 2024-04-19 22:53:17,355] Trial 22 finished with value: 0.8646957176720795 and parameters: {'n_estimators': 489, 'learning_rate': 0.5918229059951403}. Best is trial 12 with value: 0.8657480227740978.\n",
      "[I 2024-04-19 22:56:01,954] Trial 23 finished with value: 0.8652827931500476 and parameters: {'n_estimators': 425, 'learning_rate': 0.9626783280691597}. Best is trial 12 with value: 0.8657480227740978.\n",
      "[I 2024-04-19 22:59:14,083] Trial 24 finished with value: 0.8633664901747934 and parameters: {'n_estimators': 500, 'learning_rate': 0.2728613436790259}. Best is trial 12 with value: 0.8657480227740978.\n",
      "[I 2024-04-19 23:01:53,971] Trial 25 finished with value: 0.8640864884024901 and parameters: {'n_estimators': 419, 'learning_rate': 0.5373945582610997}. Best is trial 12 with value: 0.8657480227740978.\n",
      "[I 2024-04-19 23:04:04,657] Trial 26 finished with value: 0.862635415051286 and parameters: {'n_estimators': 343, 'learning_rate': 0.5273630417836197}. Best is trial 12 with value: 0.8657480227740978.\n",
      "[I 2024-04-19 23:06:57,424] Trial 27 finished with value: 0.6744168014355657 and parameters: {'n_estimators': 454, 'learning_rate': 0.0012344346113373013}. Best is trial 12 with value: 0.8657480227740978.\n",
      "[I 2024-04-19 23:09:31,489] Trial 28 finished with value: 0.7956755798754956 and parameters: {'n_estimators': 404, 'learning_rate': 0.0258043449870244}. Best is trial 12 with value: 0.8657480227740978.\n",
      "[I 2024-04-19 23:12:24,659] Trial 29 finished with value: 0.8580717339772702 and parameters: {'n_estimators': 453, 'learning_rate': 0.15800876829044455}. Best is trial 12 with value: 0.8657480227740978.\n",
      "[I 2024-04-19 23:14:41,206] Trial 30 finished with value: 0.8291499590154855 and parameters: {'n_estimators': 358, 'learning_rate': 0.07565626323168129}. Best is trial 12 with value: 0.8657480227740978.\n",
      "[I 2024-04-19 23:17:41,952] Trial 31 finished with value: 0.865504331066262 and parameters: {'n_estimators': 474, 'learning_rate': 0.9725550820211275}. Best is trial 12 with value: 0.8657480227740978.\n",
      "[I 2024-04-19 23:20:42,375] Trial 32 finished with value: 0.8651831010877512 and parameters: {'n_estimators': 473, 'learning_rate': 0.997906791582304}. Best is trial 12 with value: 0.8657480227740978.\n",
      "[I 2024-04-19 23:23:31,847] Trial 33 finished with value: 0.8649837169631582 and parameters: {'n_estimators': 443, 'learning_rate': 0.6611957095445364}. Best is trial 12 with value: 0.8657480227740978.\n",
      "[I 2024-04-19 23:26:41,286] Trial 34 finished with value: 0.8637320277365471 and parameters: {'n_estimators': 496, 'learning_rate': 0.3544241491421894}. Best is trial 12 with value: 0.8657480227740978.\n",
      "[I 2024-04-19 23:29:15,619] Trial 35 finished with value: 0.8640754115066793 and parameters: {'n_estimators': 404, 'learning_rate': 0.7249607112527272}. Best is trial 12 with value: 0.8657480227740978.\n",
      "[I 2024-04-19 23:32:16,729] Trial 36 finished with value: 0.738552028179623 and parameters: {'n_estimators': 476, 'learning_rate': 0.004426595324312554}. Best is trial 12 with value: 0.8657480227740978.\n",
      "[I 2024-04-19 23:34:07,985] Trial 37 finished with value: 0.8591129621834777 and parameters: {'n_estimators': 291, 'learning_rate': 0.25999790654542243}. Best is trial 12 with value: 0.8657480227740978.\n",
      "[I 2024-04-19 23:35:22,299] Trial 38 finished with value: 0.8588249628923991 and parameters: {'n_estimators': 195, 'learning_rate': 0.41725328483854823}. Best is trial 12 with value: 0.8657480227740978.\n",
      "[I 2024-04-19 23:37:59,482] Trial 39 finished with value: 0.8560889696271516 and parameters: {'n_estimators': 410, 'learning_rate': 0.15355117496350296}. Best is trial 12 with value: 0.8657480227740978.\n",
      "[I 2024-04-19 23:40:47,702] Trial 40 finished with value: 0.8646624869846474 and parameters: {'n_estimators': 440, 'learning_rate': 0.6902769888715204}. Best is trial 12 with value: 0.8657480227740978.\n"
     ]
    },
    {
     "name": "stderr",
     "output_type": "stream",
     "text": [
      "[I 2024-04-19 23:43:46,120] Trial 41 finished with value: 0.8659806375861229 and parameters: {'n_estimators': 468, 'learning_rate': 0.9043484990230786}. Best is trial 41 with value: 0.8659806375861229.\n",
      "[I 2024-04-19 23:46:56,233] Trial 42 finished with value: 0.8639314118611401 and parameters: {'n_estimators': 499, 'learning_rate': 0.43271853403620875}. Best is trial 41 with value: 0.8659806375861229.\n",
      "[I 2024-04-19 23:49:54,945] Trial 43 finished with value: 0.8652384855668047 and parameters: {'n_estimators': 468, 'learning_rate': 0.7490402437871178}. Best is trial 41 with value: 0.8659806375861229.\n",
      "[I 2024-04-19 23:52:43,840] Trial 44 finished with value: 0.8633554132789827 and parameters: {'n_estimators': 443, 'learning_rate': 0.46137072759769676}. Best is trial 41 with value: 0.8659806375861229.\n",
      "[I 2024-04-19 23:55:45,172] Trial 45 finished with value: 0.8650280245464012 and parameters: {'n_estimators': 475, 'learning_rate': 0.7831978102081094}. Best is trial 41 with value: 0.8659806375861229.\n",
      "[I 2024-04-19 23:58:41,038] Trial 46 finished with value: 0.8655486386495048 and parameters: {'n_estimators': 460, 'learning_rate': 0.9745447662196245}. Best is trial 41 with value: 0.8659806375861229.\n",
      "[I 2024-04-20 00:01:12,554] Trial 47 finished with value: 0.8631560291543898 and parameters: {'n_estimators': 397, 'learning_rate': 0.309825421897193}. Best is trial 41 with value: 0.8659806375861229.\n",
      "[I 2024-04-20 00:02:32,484] Trial 48 finished with value: 0.747347083453333 and parameters: {'n_estimators': 207, 'learning_rate': 0.012932212895662444}. Best is trial 41 with value: 0.8659806375861229.\n",
      "[I 2024-04-20 00:05:20,380] Trial 49 finished with value: 0.864208334256408 and parameters: {'n_estimators': 429, 'learning_rate': 0.584227235940871}. Best is trial 41 with value: 0.8659806375861229.\n",
      "[I 2024-04-20 00:07:01,018] Trial 50 finished with value: 0.8311881078446576 and parameters: {'n_estimators': 257, 'learning_rate': 0.11226060147500018}. Best is trial 41 with value: 0.8659806375861229.\n",
      "[I 2024-04-20 00:10:03,320] Trial 51 finished with value: 0.8651166397128869 and parameters: {'n_estimators': 462, 'learning_rate': 0.8795941643635233}. Best is trial 41 with value: 0.8659806375861229.\n",
      "[I 2024-04-20 00:13:14,351] Trial 52 finished with value: 0.8633664901747934 and parameters: {'n_estimators': 483, 'learning_rate': 0.4233034060680461}. Best is trial 41 with value: 0.8659806375861229.\n",
      "[I 2024-04-20 00:16:13,122] Trial 53 finished with value: 0.8648507942134296 and parameters: {'n_estimators': 454, 'learning_rate': 0.8596956187778151}. Best is trial 41 with value: 0.8659806375861229.\n",
      "[I 2024-04-20 00:19:29,073] Trial 54 finished with value: 0.8654711003788298 and parameters: {'n_estimators': 500, 'learning_rate': 0.9844057034891976}. Best is trial 41 with value: 0.8659806375861229.\n",
      "[I 2024-04-20 00:19:59,237] Trial 55 finished with value: 0.8123573849664371 and parameters: {'n_estimators': 77, 'learning_rate': 0.2344978058298418}. Best is trial 41 with value: 0.8659806375861229.\n",
      "[I 2024-04-20 00:23:06,252] Trial 56 finished with value: 0.8648618711092404 and parameters: {'n_estimators': 479, 'learning_rate': 0.6170777850443123}. Best is trial 41 with value: 0.8659806375861229.\n",
      "[I 2024-04-20 00:25:54,918] Trial 57 finished with value: 0.8640311039234365 and parameters: {'n_estimators': 433, 'learning_rate': 0.49871602020547645}. Best is trial 41 with value: 0.8659806375861229.\n",
      "[I 2024-04-20 00:28:54,444] Trial 58 finished with value: 0.8633221825915506 and parameters: {'n_estimators': 461, 'learning_rate': 0.36224594684830097}. Best is trial 41 with value: 0.8659806375861229.\n",
      "[I 2024-04-20 00:31:26,289] Trial 59 finished with value: 0.8636323356742507 and parameters: {'n_estimators': 389, 'learning_rate': 0.670844567400992}. Best is trial 41 with value: 0.8659806375861229.\n",
      "[I 2024-04-20 00:33:48,359] Trial 60 finished with value: 0.7445778595006536 and parameters: {'n_estimators': 365, 'learning_rate': 0.0068239113832205805}. Best is trial 41 with value: 0.8659806375861229.\n",
      "[I 2024-04-20 00:36:55,848] Trial 61 finished with value: 0.8652163317751833 and parameters: {'n_estimators': 483, 'learning_rate': 0.9357642457480396}. Best is trial 41 with value: 0.8659806375861229.\n",
      "[I 2024-04-20 00:39:36,173] Trial 62 finished with value: 0.8651831010877512 and parameters: {'n_estimators': 419, 'learning_rate': 0.9972849200465657}. Best is trial 41 with value: 0.8659806375861229.\n",
      "[I 2024-04-20 00:42:29,501] Trial 63 finished with value: 0.8646624869846474 and parameters: {'n_estimators': 453, 'learning_rate': 0.7283107970031317}. Best is trial 41 with value: 0.8659806375861229.\n",
      "[I 2024-04-20 00:45:36,079] Trial 64 finished with value: 0.8642526418396509 and parameters: {'n_estimators': 488, 'learning_rate': 0.5214863776416795}. Best is trial 41 with value: 0.8659806375861229.\n",
      "[I 2024-04-20 00:48:34,119] Trial 65 finished with value: 0.8090232393274109 and parameters: {'n_estimators': 467, 'learning_rate': 0.03678867414845285}. Best is trial 41 with value: 0.8659806375861229.\n",
      "[I 2024-04-20 00:51:24,460] Trial 66 finished with value: 0.8654932541704513 and parameters: {'n_estimators': 446, 'learning_rate': 0.7955136847714042}. Best is trial 41 with value: 0.8659806375861229.\n",
      "[I 2024-04-20 00:54:03,704] Trial 67 finished with value: 0.8639535656527615 and parameters: {'n_estimators': 418, 'learning_rate': 0.5970963135799031}. Best is trial 41 with value: 0.8659806375861229.\n",
      "[I 2024-04-20 00:57:02,296] Trial 68 finished with value: 0.8636434125700614 and parameters: {'n_estimators': 468, 'learning_rate': 0.35036114799912144}. Best is trial 41 with value: 0.8659806375861229.\n",
      "[I 2024-04-20 00:58:07,104] Trial 69 finished with value: 0.8582600412060524 and parameters: {'n_estimators': 170, 'learning_rate': 0.49240669245354274}. Best is trial 41 with value: 0.8659806375861229.\n",
      "[I 2024-04-20 01:01:13,702] Trial 70 finished with value: 0.8652938700458583 and parameters: {'n_estimators': 489, 'learning_rate': 0.7893138067107058}. Best is trial 41 with value: 0.8659806375861229.\n",
      "[I 2024-04-20 01:04:02,438] Trial 71 finished with value: 0.8648175635259975 and parameters: {'n_estimators': 443, 'learning_rate': 0.828078544027946}. Best is trial 41 with value: 0.8659806375861229.\n",
      "[I 2024-04-20 01:06:54,550] Trial 72 finished with value: 0.8649615631715368 and parameters: {'n_estimators': 451, 'learning_rate': 0.6605480218554912}. Best is trial 41 with value: 0.8659806375861229.\n",
      "[I 2024-04-20 01:10:05,556] Trial 73 finished with value: 0.8650944859212655 and parameters: {'n_estimators': 500, 'learning_rate': 0.8302095965479496}. Best is trial 41 with value: 0.8659806375861229.\n",
      "[I 2024-04-20 01:13:06,894] Trial 74 finished with value: 0.8610181882629212 and parameters: {'n_estimators': 475, 'learning_rate': 0.19876369160872323}. Best is trial 41 with value: 0.8659806375861229.\n",
      "[I 2024-04-20 01:15:54,774] Trial 75 finished with value: 0.8642526418396509 and parameters: {'n_estimators': 440, 'learning_rate': 0.5886051755824856}. Best is trial 41 with value: 0.8659806375861229.\n",
      "[I 2024-04-20 01:18:50,244] Trial 76 finished with value: 0.863543720507765 and parameters: {'n_estimators': 460, 'learning_rate': 0.39174537331262443}. Best is trial 41 with value: 0.8659806375861229.\n",
      "[I 2024-04-20 01:20:55,807] Trial 77 finished with value: 0.86377633531979 and parameters: {'n_estimators': 328, 'learning_rate': 0.7383955856440134}. Best is trial 41 with value: 0.8659806375861229.\n",
      "[I 2024-04-20 01:23:39,414] Trial 78 finished with value: 0.8631781829460112 and parameters: {'n_estimators': 429, 'learning_rate': 0.2921588098388028}. Best is trial 41 with value: 0.8659806375861229.\n",
      "[I 2024-04-20 01:26:45,095] Trial 79 finished with value: 0.7002702762577815 and parameters: {'n_estimators': 488, 'learning_rate': 0.0020189538352352685}. Best is trial 41 with value: 0.8659806375861229.\n",
      "[I 2024-04-20 01:29:22,603] Trial 80 finished with value: 0.8320077981346508 and parameters: {'n_estimators': 413, 'learning_rate': 0.07143995620474043}. Best is trial 41 with value: 0.8659806375861229.\n",
      "[I 2024-04-20 01:32:33,397] Trial 81 finished with value: 0.865149870400319 and parameters: {'n_estimators': 499, 'learning_rate': 0.9864012553809434}. Best is trial 41 with value: 0.8659806375861229.\n"
     ]
    },
    {
     "name": "stderr",
     "output_type": "stream",
     "text": [
      "[I 2024-04-20 01:35:36,066] Trial 82 finished with value: 0.8656040231285584 and parameters: {'n_estimators': 478, 'learning_rate': 0.9826284061663599}. Best is trial 41 with value: 0.8659806375861229.\n",
      "[I 2024-04-20 01:38:38,415] Trial 83 finished with value: 0.8648397173176189 and parameters: {'n_estimators': 477, 'learning_rate': 0.81072485248906}. Best is trial 41 with value: 0.8659806375861229.\n",
      "[I 2024-04-20 01:41:29,878] Trial 84 finished with value: 0.8639757194443829 and parameters: {'n_estimators': 448, 'learning_rate': 0.5138076208186694}. Best is trial 41 with value: 0.8659806375861229.\n",
      "[I 2024-04-20 01:44:28,589] Trial 85 finished with value: 0.8649726400673475 and parameters: {'n_estimators': 469, 'learning_rate': 0.6806074281119879}. Best is trial 41 with value: 0.8659806375861229.\n",
      "[I 2024-04-20 01:47:14,314] Trial 86 finished with value: 0.8642415649438402 and parameters: {'n_estimators': 434, 'learning_rate': 0.5923802032163028}. Best is trial 41 with value: 0.8659806375861229.\n",
      "[I 2024-04-20 01:50:20,284] Trial 87 finished with value: 0.8655707924411263 and parameters: {'n_estimators': 487, 'learning_rate': 0.9835594335797351}. Best is trial 41 with value: 0.8659806375861229.\n",
      "[I 2024-04-20 01:53:26,610] Trial 88 finished with value: 0.8642415649438402 and parameters: {'n_estimators': 488, 'learning_rate': 0.46642377935444357}. Best is trial 41 with value: 0.8659806375861229.\n",
      "[I 2024-04-20 01:56:22,204] Trial 89 finished with value: 0.8649837169631582 and parameters: {'n_estimators': 460, 'learning_rate': 0.9904234403566224}. Best is trial 41 with value: 0.8659806375861229.\n",
      "[I 2024-04-20 01:59:25,028] Trial 90 finished with value: 0.8644520259642438 and parameters: {'n_estimators': 479, 'learning_rate': 0.6678557749536816}. Best is trial 41 with value: 0.8659806375861229.\n",
      "[I 2024-04-20 02:02:23,517] Trial 91 finished with value: 0.8647511021511332 and parameters: {'n_estimators': 469, 'learning_rate': 0.8316816834476461}. Best is trial 41 with value: 0.8659806375861229.\n",
      "[I 2024-04-20 02:05:31,323] Trial 92 finished with value: 0.864485256651676 and parameters: {'n_estimators': 492, 'learning_rate': 0.84880842938704}. Best is trial 41 with value: 0.8659806375861229.\n",
      "[I 2024-04-20 02:08:25,568] Trial 93 finished with value: 0.8651831010877512 and parameters: {'n_estimators': 456, 'learning_rate': 0.9989577003467961}. Best is trial 41 with value: 0.8659806375861229.\n",
      "[I 2024-04-20 02:11:28,667] Trial 94 finished with value: 0.8645960256097831 and parameters: {'n_estimators': 480, 'learning_rate': 0.7394563037960391}. Best is trial 41 with value: 0.8659806375861229.\n",
      "[I 2024-04-20 02:14:18,953] Trial 95 finished with value: 0.7971931146015641 and parameters: {'n_estimators': 446, 'learning_rate': 0.02611519590656504}. Best is trial 41 with value: 0.8659806375861229.\n",
      "[I 2024-04-20 02:17:16,215] Trial 96 finished with value: 0.8273665787899599 and parameters: {'n_estimators': 463, 'learning_rate': 0.057070219263393084}. Best is trial 41 with value: 0.8659806375861229.\n",
      "[I 2024-04-20 02:20:24,126] Trial 97 finished with value: 0.8646071025055938 and parameters: {'n_estimators': 491, 'learning_rate': 0.5341745792296888}. Best is trial 41 with value: 0.8659806375861229.\n",
      "[I 2024-04-20 02:23:23,996] Trial 98 finished with value: 0.8646624869846474 and parameters: {'n_estimators': 469, 'learning_rate': 0.6276865890846908}. Best is trial 41 with value: 0.8659806375861229.\n",
      "[I 2024-04-20 02:26:08,488] Trial 99 finished with value: 0.8651387935045083 and parameters: {'n_estimators': 427, 'learning_rate': 0.8804464642249784}. Best is trial 41 with value: 0.8659806375861229.\n"
     ]
    },
    {
     "name": "stdout",
     "output_type": "stream",
     "text": [
      "Number of finished trials:  100\n",
      "Best trial:\n",
      "  Value:  0.8659806375861229\n",
      "  Params: \n",
      "    n_estimators: 468\n",
      "    learning_rate: 0.9043484990230786\n"
     ]
    }
   ],
   "source": [
    "from optuna.samplers import TPESampler\n",
    "from sklearn.metrics import accuracy_score\n",
    "import optuna\n",
    "import pickle\n",
    "\n",
    "sampler = TPESampler(seed=1)\n",
    "study = optuna.create_study(direction=\"maximize\", sampler=sampler)\n",
    "study.optimize(objective, n_trials=100)\n",
    "\n",
    "print(\"Number of finished trials: \", len(study.trials))\n",
    "print(\"Best trial:\")\n",
    "trial = study.best_trial\n",
    "print(\"  Value: \", trial.value)\n",
    "print(\"  Params: \")\n",
    "for key, value in trial.params.items():\n",
    "    print(\"    {}: {}\".format(key, value))"
   ]
  },
  {
   "cell_type": "code",
   "execution_count": 21,
   "metadata": {},
   "outputs": [
    {
     "data": {
      "image/png": "[encoded data removed]",
      "text/plain": [
       "<Figure size 800x600 with 1 Axes>"
      ]
     },
     "metadata": {},
     "output_type": "display_data"
    }
   ],
   "source": [
    "from sklearn.metrics import roc_curve, auc, roc_auc_score\n",
    "# Predict probabilities for the positive class\n",
    "y_probs = model.predict_proba(X_test)[:, 1]\n",
    "\n",
    "# Calculate ROC curve data\n",
    "fpr, tpr, thresholds = roc_curve(y_test, y_probs)\n",
    "roc_auc = auc(fpr, tpr)  # Calculate the AUC\n",
    "\n",
    "# Plotting the ROC curve\n",
    "plt.figure(figsize=(8, 6))\n",
    "plt.plot(fpr, tpr, color='darkorange', lw=2, label='ROC curve (area = %0.2f)' % roc_auc)\n",
    "plt.plot([0, 1], [0, 1], color='navy', linestyle='--')\n",
    "plt.xlabel('False Positive Rate')\n",
    "plt.ylabel('True Positive Rate')\n",
    "plt.title('Receiver Operating Characteristic (ROC) Curve')\n",
    "plt.legend(loc=\"lower right\")\n",
    "plt.grid()\n",
    "plt.show()"
   ]
  },
  {
   "cell_type": "code",
   "execution_count": null,
   "metadata": {},
   "outputs": [],
   "source": []
  }
 ],
 "metadata": {
  "kernelspec": {
   "display_name": "Python 3 (ipykernel)",
   "language": "python",
   "name": "python3"
  },
  "language_info": {
   "codemirror_mode": {
    "name": "ipython",
    "version": 3
   },
   "file_extension": ".py",
   "mimetype": "text/x-python",
   "name": "python",
   "nbconvert_exporter": "python",
   "pygments_lexer": "ipython3",
   "version": "3.9.18"
  }
 },
 "nbformat": 4,
 "nbformat_minor": 4
}
